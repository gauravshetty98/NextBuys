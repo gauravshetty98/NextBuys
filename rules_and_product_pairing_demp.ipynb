{
 "cells": [
  {
   "cell_type": "markdown",
   "metadata": {},
   "source": [
    "# NextBuys - Recommendation engine built using FP-Growth and Cosine Similarity"
   ]
  },
  {
   "cell_type": "markdown",
   "metadata": {},
   "source": [
    "## Importing the class files "
   ]
  },
  {
   "cell_type": "markdown",
   "metadata": {},
   "source": [
    "- RuleCreation is the class which contains the code for creating the rules for the website.\n",
    "    - It has functions used to filter the orders and remove orders which might not be useful in the algorithm\n",
    "    - It then uses fp-growth algorithm to create a dataframe containing the rules which will help us in recommending different categories of products\n",
    "    - It also has a function which will help us in creating a directory containing all the categories and a unique id\n",
    "- ProductDirectoryBuilder is the class which calculates similar products based on cosine similarity\n",
    "    - It first compares the product title with all the other titles present in the category. It then only keeps the top 20 products in the category. This is done so that mis-classified products in a category are removed.\n",
    "    - It then calculates the cosine similarity of each product with every other product and stores the cosine similarity score of each product-product pair in a row"
   ]
  },
  {
   "cell_type": "code",
   "execution_count": null,
   "metadata": {},
   "outputs": [],
   "source": [
    "from RecommendationRuleCreation import RuleCreation\n",
    "from ProductPairing import ProductDirectoryBuilder"
   ]
  },
  {
   "cell_type": "markdown",
   "metadata": {},
   "source": [
    "## Creating the rules"
   ]
  },
  {
   "cell_type": "markdown",
   "metadata": {},
   "source": [
    "We have made use of the `mlxtend` library for FP-Growth and Association rules\n",
    "\n",
    "Steps used to create the rules:\n",
    "- Load the amazon purchase data\n",
    "- Filter out orders which only have single items, incomplete data, etc.\n",
    "- Generate freuqent itemsets using fp-growth algorithm which will then help us in creating the rules\n",
    "- Generate the association rules\n",
    "- Filter out rules with any specific criteria [Example shown below uses lift]\n",
    "\n",
    "\n",
    "Here we have kept the minimum support as 0.005 for this example"
   ]
  },
  {
   "cell_type": "code",
   "execution_count": 2,
   "metadata": {},
   "outputs": [
    {
     "name": "stderr",
     "output_type": "stream",
     "text": [
      "/Users/gauravshetty/Documents/Recommendation Engine/git_files/NextBuys/RecommendationRuleCreation.py:41: FutureWarning: DataFrame.applymap has been deprecated. Use DataFrame.map instead.\n",
      "  basket = basket.applymap(lambda x: True if x > 0 else False)\n"
     ]
    }
   ],
   "source": [
    "# Load and filter data\n",
    "data = RuleCreation.load_data('src/amazon-purchases.csv')\n",
    "filtered_data = RuleCreation.filter_orders(data)\n",
    "\n",
    "# Generate frequent itemsets and association rules\n",
    "frequent_itemsets = RuleCreation.generate_frequent_itemsets(filtered_data, min_support=0.005)\n",
    "rules = RuleCreation.generate_association_rules(frequent_itemsets, min_threshold=0.1)\n",
    "rules = rules[rules['lift'] >= 1.0]\n",
    "rules.head()\n",
    "\n",
    "# Create category directory\n",
    "category_dir = RuleCreation.create_category_directory(rules)"
   ]
  },
  {
   "cell_type": "markdown",
   "metadata": {},
   "source": [
    "## Creating similar product pairs using cosine similarity"
   ]
  },
  {
   "cell_type": "markdown",
   "metadata": {},
   "source": [
    "We start off with creating the product directory similar to the category directory. This is mainly to filter out products which have been misclassified and to reduce the product catalog size for the website. \n",
    "\n",
    "Steps to create the product directory using `build_product_directory`\n",
    "- Iterate through each unique category in category_dir.\n",
    "- Preprocess product titles to clean and standardize the product titles.\n",
    "- Create a vocabulary set containing all the titles in the category\n",
    "- Calculate similarity scores using TF-IDF and cosine similarity for all the products in a category to the vocabulary set.\n",
    "- Sort products by similarity scores, remove duplicates, and select the top N products. Products which do not belong to a category might have a smaller cosine similarity score to the overall vocabulary set \n",
    "- Combine the results for all categories into a single DataFrame.\n",
    "- Return the final product directory."
   ]
  },
  {
   "cell_type": "code",
   "execution_count": 3,
   "metadata": {},
   "outputs": [
    {
     "data": {
      "text/html": [
       "<div>\n",
       "<style scoped>\n",
       "    .dataframe tbody tr th:only-of-type {\n",
       "        vertical-align: middle;\n",
       "    }\n",
       "\n",
       "    .dataframe tbody tr th {\n",
       "        vertical-align: top;\n",
       "    }\n",
       "\n",
       "    .dataframe thead th {\n",
       "        text-align: right;\n",
       "    }\n",
       "</style>\n",
       "<table border=\"1\" class=\"dataframe\">\n",
       "  <thead>\n",
       "    <tr style=\"text-align: right;\">\n",
       "      <th></th>\n",
       "      <th>Order Date</th>\n",
       "      <th>Purchase Price Per Unit</th>\n",
       "      <th>Quantity</th>\n",
       "      <th>Shipping Address State</th>\n",
       "      <th>Title</th>\n",
       "      <th>ASIN/ISBN (Product Code)</th>\n",
       "      <th>Category_x</th>\n",
       "      <th>Survey ResponseID</th>\n",
       "      <th>order_id</th>\n",
       "      <th>count</th>\n",
       "      <th>unique_products_count</th>\n",
       "      <th>Category_y</th>\n",
       "      <th>sim_index</th>\n",
       "      <th>cat_id</th>\n",
       "    </tr>\n",
       "  </thead>\n",
       "  <tbody>\n",
       "    <tr>\n",
       "      <th>0</th>\n",
       "      <td>2021-02-06</td>\n",
       "      <td>12.99</td>\n",
       "      <td>1.0</td>\n",
       "      <td>WI</td>\n",
       "      <td>supbec iphone 8 case iphone 7 case slim fit ip...</td>\n",
       "      <td>B07RY28HPC</td>\n",
       "      <td>CELLULAR_PHONE_CASE</td>\n",
       "      <td>R_2xMobch64onIeYO</td>\n",
       "      <td>408092</td>\n",
       "      <td>3</td>\n",
       "      <td>3</td>\n",
       "      <td>1.0</td>\n",
       "      <td>0.119630</td>\n",
       "      <td>1</td>\n",
       "    </tr>\n",
       "    <tr>\n",
       "      <th>1</th>\n",
       "      <td>2020-07-01</td>\n",
       "      <td>12.99</td>\n",
       "      <td>1.0</td>\n",
       "      <td>KY</td>\n",
       "      <td>compatible with iphone case clear case cover</td>\n",
       "      <td>B075WMX4JS</td>\n",
       "      <td>CELLULAR_PHONE_CASE</td>\n",
       "      <td>R_3GiWheWDtygg0V2</td>\n",
       "      <td>467735</td>\n",
       "      <td>5</td>\n",
       "      <td>5</td>\n",
       "      <td>1.0</td>\n",
       "      <td>0.118880</td>\n",
       "      <td>1</td>\n",
       "    </tr>\n",
       "    <tr>\n",
       "      <th>2</th>\n",
       "      <td>2021-09-23</td>\n",
       "      <td>11.99</td>\n",
       "      <td>1.0</td>\n",
       "      <td>TN</td>\n",
       "      <td>giika for iphone 12 case iphone 12 pro case wi...</td>\n",
       "      <td>B08N4H4NDD</td>\n",
       "      <td>CELLULAR_PHONE_CASE</td>\n",
       "      <td>R_PSgcRvjngEuUFC9</td>\n",
       "      <td>681251</td>\n",
       "      <td>4</td>\n",
       "      <td>4</td>\n",
       "      <td>1.0</td>\n",
       "      <td>0.115908</td>\n",
       "      <td>1</td>\n",
       "    </tr>\n",
       "    <tr>\n",
       "      <th>3</th>\n",
       "      <td>2021-05-25</td>\n",
       "      <td>14.99</td>\n",
       "      <td>1.0</td>\n",
       "      <td>TX</td>\n",
       "      <td>giika iphone se 2020 case iphone 8 case iphone...</td>\n",
       "      <td>B08LKY1NWY</td>\n",
       "      <td>CELLULAR_PHONE_CASE</td>\n",
       "      <td>R_29sSdZhPXE2rY6T</td>\n",
       "      <td>238179</td>\n",
       "      <td>3</td>\n",
       "      <td>3</td>\n",
       "      <td>1.0</td>\n",
       "      <td>0.115806</td>\n",
       "      <td>1</td>\n",
       "    </tr>\n",
       "    <tr>\n",
       "      <th>4</th>\n",
       "      <td>2020-08-31</td>\n",
       "      <td>16.99</td>\n",
       "      <td>1.0</td>\n",
       "      <td>CA</td>\n",
       "      <td>youmaker designed for iphone 8 plus case  ipho...</td>\n",
       "      <td>B07D3K632T</td>\n",
       "      <td>CELLULAR_PHONE_CASE</td>\n",
       "      <td>R_301qJ8vhV7FSEct</td>\n",
       "      <td>422949</td>\n",
       "      <td>6</td>\n",
       "      <td>6</td>\n",
       "      <td>1.0</td>\n",
       "      <td>0.113227</td>\n",
       "      <td>1</td>\n",
       "    </tr>\n",
       "  </tbody>\n",
       "</table>\n",
       "</div>"
      ],
      "text/plain": [
       "  Order Date  Purchase Price Per Unit  Quantity Shipping Address State  \\\n",
       "0 2021-02-06                    12.99       1.0                     WI   \n",
       "1 2020-07-01                    12.99       1.0                     KY   \n",
       "2 2021-09-23                    11.99       1.0                     TN   \n",
       "3 2021-05-25                    14.99       1.0                     TX   \n",
       "4 2020-08-31                    16.99       1.0                     CA   \n",
       "\n",
       "                                               Title ASIN/ISBN (Product Code)  \\\n",
       "0  supbec iphone 8 case iphone 7 case slim fit ip...               B07RY28HPC   \n",
       "1       compatible with iphone case clear case cover               B075WMX4JS   \n",
       "2  giika for iphone 12 case iphone 12 pro case wi...               B08N4H4NDD   \n",
       "3  giika iphone se 2020 case iphone 8 case iphone...               B08LKY1NWY   \n",
       "4  youmaker designed for iphone 8 plus case  ipho...               B07D3K632T   \n",
       "\n",
       "            Category_x  Survey ResponseID  order_id  count  \\\n",
       "0  CELLULAR_PHONE_CASE  R_2xMobch64onIeYO    408092      3   \n",
       "1  CELLULAR_PHONE_CASE  R_3GiWheWDtygg0V2    467735      5   \n",
       "2  CELLULAR_PHONE_CASE  R_PSgcRvjngEuUFC9    681251      4   \n",
       "3  CELLULAR_PHONE_CASE  R_29sSdZhPXE2rY6T    238179      3   \n",
       "4  CELLULAR_PHONE_CASE  R_301qJ8vhV7FSEct    422949      6   \n",
       "\n",
       "   unique_products_count  Category_y  sim_index  cat_id  \n",
       "0                      3         1.0   0.119630       1  \n",
       "1                      5         1.0   0.118880       1  \n",
       "2                      4         1.0   0.115908       1  \n",
       "3                      3         1.0   0.115806       1  \n",
       "4                      6         1.0   0.113227       1  "
      ]
     },
     "execution_count": 3,
     "metadata": {},
     "output_type": "execute_result"
    }
   ],
   "source": [
    "prod_dir = ProductDirectoryBuilder()\n",
    "new_df = prod_dir.build_product_directory(category_dir, filtered_data)\n",
    "new_df.head()"
   ]
  },
  {
   "cell_type": "markdown",
   "metadata": {},
   "source": [
    "To create the pairing directory we just iterate through each product-product pairing in a category and calculate the cosine similarity score and store the pair and its respective score in a new dataframe. "
   ]
  },
  {
   "cell_type": "code",
   "execution_count": 4,
   "metadata": {},
   "outputs": [
    {
     "name": "stdout",
     "output_type": "stream",
     "text": [
      "Total =  7\n"
     ]
    },
    {
     "data": {
      "text/html": [
       "<div>\n",
       "<style scoped>\n",
       "    .dataframe tbody tr th:only-of-type {\n",
       "        vertical-align: middle;\n",
       "    }\n",
       "\n",
       "    .dataframe tbody tr th {\n",
       "        vertical-align: top;\n",
       "    }\n",
       "\n",
       "    .dataframe thead th {\n",
       "        text-align: right;\n",
       "    }\n",
       "</style>\n",
       "<table border=\"1\" class=\"dataframe\">\n",
       "  <thead>\n",
       "    <tr style=\"text-align: right;\">\n",
       "      <th></th>\n",
       "      <th>target_prod</th>\n",
       "      <th>compare_prod</th>\n",
       "      <th>sim_values</th>\n",
       "    </tr>\n",
       "  </thead>\n",
       "  <tbody>\n",
       "    <tr>\n",
       "      <th>0</th>\n",
       "      <td>B07RY28HPC</td>\n",
       "      <td>B07RY28HPC</td>\n",
       "      <td>1.000000</td>\n",
       "    </tr>\n",
       "    <tr>\n",
       "      <th>1</th>\n",
       "      <td>B07RY28HPC</td>\n",
       "      <td>B07RXZ6LC7</td>\n",
       "      <td>0.859428</td>\n",
       "    </tr>\n",
       "    <tr>\n",
       "      <th>2</th>\n",
       "      <td>B07RY28HPC</td>\n",
       "      <td>B083M7LR3D</td>\n",
       "      <td>0.492250</td>\n",
       "    </tr>\n",
       "    <tr>\n",
       "      <th>3</th>\n",
       "      <td>B07RY28HPC</td>\n",
       "      <td>B083M72PZ6</td>\n",
       "      <td>0.485893</td>\n",
       "    </tr>\n",
       "    <tr>\n",
       "      <th>4</th>\n",
       "      <td>B07RY28HPC</td>\n",
       "      <td>B076NPPW58</td>\n",
       "      <td>0.484800</td>\n",
       "    </tr>\n",
       "  </tbody>\n",
       "</table>\n",
       "</div>"
      ],
      "text/plain": [
       "  target_prod compare_prod  sim_values\n",
       "0  B07RY28HPC   B07RY28HPC    1.000000\n",
       "1  B07RY28HPC   B07RXZ6LC7    0.859428\n",
       "2  B07RY28HPC   B083M7LR3D    0.492250\n",
       "3  B07RY28HPC   B083M72PZ6    0.485893\n",
       "4  B07RY28HPC   B076NPPW58    0.484800"
      ]
     },
     "execution_count": 4,
     "metadata": {},
     "output_type": "execute_result"
    }
   ],
   "source": [
    "pairing_dir = prod_dir.build_pairing_directory(category_dir, new_df)\n",
    "pairing_dir.head()"
   ]
  }
 ],
 "metadata": {
  "kernelspec": {
   "display_name": "base",
   "language": "python",
   "name": "python3"
  },
  "language_info": {
   "codemirror_mode": {
    "name": "ipython",
    "version": 3
   },
   "file_extension": ".py",
   "mimetype": "text/x-python",
   "name": "python",
   "nbconvert_exporter": "python",
   "pygments_lexer": "ipython3",
   "version": "3.12.7"
  }
 },
 "nbformat": 4,
 "nbformat_minor": 2
}
